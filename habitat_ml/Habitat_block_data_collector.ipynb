{
 "cells": [
  {
   "cell_type": "code",
   "execution_count": null,
   "metadata": {},
   "outputs": [],
   "source": [
    "import sqlalchemy as db\n",
    "from urllib.parse import quote_plus\n",
    "import pandas as pd\n",
    "import numpy as np\n",
    "#Database credentials\n",
    "user = 'user'\n",
    "password = 'pass'\n",
    "if \"@\" in password:\n",
    "    password = quote_plus(password)\n",
    "host = 'host'\n",
    "port = 'port'\n",
    "#database = 'db?useSSL=false'\n",
    "database = 'db'\n",
    "engine = None\n",
    "#Connector to db\n",
    "if \"?useSSL=false\" in database:\n",
    "    database = database.split('?')[0]\n",
    "    engine = db.create_engine('mysql+mysqlconnector://' + user + ':' + password + '@' + host + ':' + port + '/' + database, connect_args={'ssl_disabled': 'True'})\n",
    "else:\n",
    "    engine = db.create_engine('mysql+pymysql://' + user + ':' + password + '@' + host + ':' + port + '/' + database)"
   ]
  },
  {
   "cell_type": "code",
   "execution_count": null,
   "metadata": {},
   "outputs": [],
   "source": [
    "teammates = pd.read_csv('builders.csv')\n",
    "teammates.head(5)"
   ]
  },
  {
   "cell_type": "code",
   "execution_count": null,
   "metadata": {},
   "outputs": [],
   "source": [
    "num_teammates = teammates.count(axis=1)\n",
    "num_teammates"
   ]
  },
  {
   "cell_type": "code",
   "execution_count": null,
   "metadata": {},
   "outputs": [],
   "source": [
    "#Get table worlds in db has columns (row id, world id, and world name)\n",
    "meta = db.MetaData()\n",
    "db.MetaData.reflect(meta,bind=engine)\n",
    "worlds = meta.tables['co_world']"
   ]
  },
  {
   "cell_type": "code",
   "execution_count": null,
   "metadata": {},
   "outputs": [],
   "source": [
    "print(worlds.columns)"
   ]
  },
  {
   "cell_type": "code",
   "execution_count": null,
   "metadata": {},
   "outputs": [],
   "source": [
    "#Query to retrieve world id and world name\n",
    "query = db.select([\n",
    "    worlds.c.id,\n",
    "    worlds.c.world,\n",
    "])\n",
    "\n",
    "result = engine.execute(query).fetchall()\n",
    "result"
   ]
  },
  {
   "cell_type": "code",
   "execution_count": null,
   "metadata": {},
   "outputs": [],
   "source": [
    "#Make list of worlds of interest to count blocks\n",
    "build_worlds = teammates[\"world\"].unique()\n",
    "world_coding = []\n",
    "for world in build_worlds:\n",
    "    for entry in result:\n",
    "        if entry[1] ==  world:\n",
    "            world_coding.append(entry)\n",
    "            break\n",
    "world_coding"
   ]
  },
  {
   "cell_type": "code",
   "execution_count": null,
   "metadata": {},
   "outputs": [],
   "source": [
    "#Get mapping of block type id to block name\n",
    "material_map = meta.tables['co_material_map']\n",
    "material_query = db.select([\n",
    "    material_map.c.id,\n",
    "    material_map.c.material,\n",
    "])\n",
    "material_result = engine.execute(material_query).fetchall()\n",
    "block_types = []\n",
    "for material in material_result:\n",
    "    block_types.append(material[1])\n",
    "block_counts = pd.DataFrame(columns = block_types)\n",
    "block_counts"
   ]
  },
  {
   "cell_type": "code",
   "execution_count": null,
   "metadata": {
    "scrolled": false
   },
   "outputs": [],
   "source": [
    "for i in range(len(teammates)):\n",
    "    row = teammates.iloc[[i]]\n",
    "    group_size = num_teammates.iloc[[i]][i]-2\n",
    "    world = row[\"world\"][i]\n",
    "    world_id = -1\n",
    "    for w in world_coding:\n",
    "        if w[1] == world:\n",
    "            world_id = w[0]\n",
    "            #print(w[1])\n",
    "            break\n",
    "    #Skip world if whitefield2 = empty world\n",
    "    if world_id == 88:\n",
    "        continue\n",
    "    #Get blocks from world of interest\n",
    "    blocks = meta.tables['co_block']\n",
    "    users = meta.tables['co_user']\n",
    "    block_result = []\n",
    "    if group_size == 1:\n",
    "        query_users = db.select([\n",
    "            users.c.rowid,\n",
    "            users.c.user,\n",
    "        ]).where((users.c.user == row['builder1'][i]))\n",
    "        user_result = engine.execute(query_users).fetchall()\n",
    "        #print(user_result)\n",
    "        query_blocks = db.select([\n",
    "        blocks.c.type,\n",
    "        ]).where((blocks.c.wid == world_id) & (blocks.c.user == user_result[0][0]))\n",
    "        block_result = engine.execute(query_blocks).fetchall()\n",
    "    elif group_size == 2:\n",
    "        query_users = db.select([\n",
    "            users.c.rowid,\n",
    "            users.c.user,\n",
    "        ]).where((users.c.user == row['builder1'][i]) | (users.c.user == row['builder2'][i]))\n",
    "        user_result = engine.execute(query_users).fetchall()\n",
    "        #print(user_result)\n",
    "        query_blocks = db.select([\n",
    "        blocks.c.type,\n",
    "        ]).where((blocks.c.wid == world_id) & ((blocks.c.user == user_result[0][0])|(blocks.c.user == user_result[1][0])))\n",
    "        block_result = engine.execute(query_blocks).fetchall()\n",
    "    elif group_size == 3:\n",
    "        query_users = db.select([\n",
    "            users.c.rowid,\n",
    "            users.c.user,\n",
    "        ]).where((users.c.user == row['builder1'][i]) | (users.c.user == row['builder2'][i]) | (users.c.user == row['builder3'][i]))\n",
    "        user_result = engine.execute(query_users).fetchall()\n",
    "        #print(user_result)\n",
    "        query_blocks = db.select([\n",
    "        blocks.c.type,\n",
    "        ]).where((blocks.c.wid == world_id) & ((blocks.c.user == user_result[0][0])|(blocks.c.user == user_result[1][0])|(blocks.c.user == user_result[2][0])))\n",
    "        block_result = engine.execute(query_blocks).fetchall()\n",
    "    elif group_size == 4:\n",
    "        query_users = db.select([\n",
    "            users.c.rowid,\n",
    "            users.c.user,\n",
    "        ]).where((users.c.user == row['builder1'][i]) | (users.c.user == row['builder2'][i]) | (users.c.user == row['builder3'][i]) | (users.c.user == row['builder4'][i]))\n",
    "        user_result = engine.execute(query_users).fetchall()\n",
    "        #print(user_result)\n",
    "        query_blocks = db.select([\n",
    "        blocks.c.type,\n",
    "        ]).where((blocks.c.wid == world_id) & ((blocks.c.user == user_result[0][0])|(blocks.c.user == user_result[1][0])|(blocks.c.user == user_result[2][0])|(blocks.c.user == user_result[3][0])))\n",
    "        block_result = engine.execute(query_blocks).fetchall()\n",
    "    elif group_size == 5:\n",
    "        query_users = db.select([\n",
    "            users.c.rowid,\n",
    "            users.c.user,\n",
    "        ]).where((users.c.user == row['builder1'][i]) | (users.c.user == row['builder2'][i]) | (users.c.user == row['builder3'][i]) | (users.c.user == row['builder4'][i]) | (users.c.user == row['builder5'][i]))\n",
    "        user_result = engine.execute(query_users).fetchall()\n",
    "        #print(user_result)\n",
    "        query_blocks = db.select([\n",
    "        blocks.c.type,\n",
    "        ]).where((blocks.c.wid == world_id) & ((blocks.c.user == user_result[0][0])|(blocks.c.user == user_result[1][0])|(blocks.c.user == user_result[2][0])|(blocks.c.user == user_result[3][0])|(blocks.c.user == user_result[4][0])))\n",
    "        block_result = engine.execute(query_blocks).fetchall()\n",
    "    unique, counts = np.unique(block_result, return_counts=True)\n",
    "    block_usages = dict(zip(unique, counts))\n",
    "    for j, k in block_usages.items():\n",
    "        material = material_result[j-1][1]\n",
    "        block_counts.at[row[\"id\"][i],material] = k\n",
    "    print(\"Base \" + str(row[\"id\"][i]) + \"/\" + str(len(teammates)) + \" Completed!\")"
   ]
  },
  {
   "cell_type": "code",
   "execution_count": null,
   "metadata": {
    "scrolled": true
   },
   "outputs": [],
   "source": [
    "block_counts"
   ]
  },
  {
   "cell_type": "code",
   "execution_count": null,
   "metadata": {},
   "outputs": [],
   "source": [
    "#Whitefield2023, Caribou, Whitefield, Goldcrown, Mahometafterschool, sdp1, sdp2, uncc2023, sdp3, sdp4, sdp5\n",
    "#Have Whitefield2, Caribou, Goldcrown, sdp1, \n",
    "blocks = meta.tables['co_block']\n",
    "users = meta.tables['co_user']\n",
    "query_users = db.select([\n",
    "            users.c.rowid,\n",
    "            users.c.user,\n",
    "        ]).where((users.c.user == \"MCSdolphin\") | (users.c.user == \"MCSbear\") | (users.c.user == \"MCSeagle\"))\n",
    "user_result = engine.execute(query_users).fetchall()\n",
    "        #print(user_result)\n",
    "query_blocks = db.select([\n",
    "        blocks.c.type,\n",
    "        ]).where((blocks.c.wid == 92) & ((blocks.c.user == user_result[0][0])|(blocks.c.user == user_result[1][0])|(blocks.c.user == user_result[2][0])))\n",
    "block_result = engine.execute(query_blocks).fetchall()\n",
    "block_result"
   ]
  },
  {
   "cell_type": "code",
   "execution_count": null,
   "metadata": {},
   "outputs": [],
   "source": [
    "#Create csv for Block_Counter to use\n",
    "block_counts.to_csv('block_counts.csv',index=True)"
   ]
  },
  {
   "cell_type": "code",
   "execution_count": null,
   "metadata": {},
   "outputs": [],
   "source": []
  }
 ],
 "metadata": {
  "kernelspec": {
   "display_name": "Python 3",
   "language": "python",
   "name": "python3"
  },
  "language_info": {
   "codemirror_mode": {
    "name": "ipython",
    "version": 3
   },
   "file_extension": ".py",
   "mimetype": "text/x-python",
   "name": "python",
   "nbconvert_exporter": "python",
   "pygments_lexer": "ipython3",
   "version": "3.7.6"
  }
 },
 "nbformat": 4,
 "nbformat_minor": 5
}
