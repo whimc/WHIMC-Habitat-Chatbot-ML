{
 "cells": [
  {
   "cell_type": "code",
   "execution_count": 1,
   "id": "42802960-e6dd-4a26-840b-e4b4ad99c4b3",
   "metadata": {},
   "outputs": [
    {
     "data": {
      "text/html": [
       "<div>\n",
       "<style scoped>\n",
       "    .dataframe tbody tr th:only-of-type {\n",
       "        vertical-align: middle;\n",
       "    }\n",
       "\n",
       "    .dataframe tbody tr th {\n",
       "        vertical-align: top;\n",
       "    }\n",
       "\n",
       "    .dataframe thead th {\n",
       "        text-align: right;\n",
       "    }\n",
       "</style>\n",
       "<table border=\"1\" class=\"dataframe\">\n",
       "  <thead>\n",
       "    <tr style=\"text-align: right;\">\n",
       "      <th></th>\n",
       "      <th>oxygen_regulation</th>\n",
       "      <th>radiation_protection</th>\n",
       "      <th>gravity</th>\n",
       "      <th>food</th>\n",
       "      <th>supplies</th>\n",
       "      <th>power_generation</th>\n",
       "      <th>health</th>\n",
       "      <th>communications_facilities</th>\n",
       "      <th>shape</th>\n",
       "      <th>area</th>\n",
       "      <th>transportation</th>\n",
       "    </tr>\n",
       "    <tr>\n",
       "      <th>id</th>\n",
       "      <th></th>\n",
       "      <th></th>\n",
       "      <th></th>\n",
       "      <th></th>\n",
       "      <th></th>\n",
       "      <th></th>\n",
       "      <th></th>\n",
       "      <th></th>\n",
       "      <th></th>\n",
       "      <th></th>\n",
       "      <th></th>\n",
       "    </tr>\n",
       "  </thead>\n",
       "  <tbody>\n",
       "    <tr>\n",
       "      <th>1</th>\n",
       "      <td>1.5</td>\n",
       "      <td>0.75</td>\n",
       "      <td>0</td>\n",
       "      <td>1.50</td>\n",
       "      <td>0.0</td>\n",
       "      <td>1.00</td>\n",
       "      <td>1</td>\n",
       "      <td>1.5</td>\n",
       "      <td>0.75</td>\n",
       "      <td>0.0</td>\n",
       "      <td>0.0</td>\n",
       "    </tr>\n",
       "    <tr>\n",
       "      <th>2</th>\n",
       "      <td>1.5</td>\n",
       "      <td>0</td>\n",
       "      <td>0</td>\n",
       "      <td>0.00</td>\n",
       "      <td>0.0</td>\n",
       "      <td>1.50</td>\n",
       "      <td>0</td>\n",
       "      <td>1.5</td>\n",
       "      <td>1.50</td>\n",
       "      <td>1.0</td>\n",
       "      <td>0.0</td>\n",
       "    </tr>\n",
       "    <tr>\n",
       "      <th>3</th>\n",
       "      <td>1.5</td>\n",
       "      <td>1.5</td>\n",
       "      <td>1</td>\n",
       "      <td>1.50</td>\n",
       "      <td>1.5</td>\n",
       "      <td>1.50</td>\n",
       "      <td>0</td>\n",
       "      <td>1.5</td>\n",
       "      <td>0.75</td>\n",
       "      <td>1.0</td>\n",
       "      <td>1.0</td>\n",
       "    </tr>\n",
       "    <tr>\n",
       "      <th>4</th>\n",
       "      <td>1.5</td>\n",
       "      <td>1.5</td>\n",
       "      <td>1</td>\n",
       "      <td>0.75</td>\n",
       "      <td>1.5</td>\n",
       "      <td>1.50</td>\n",
       "      <td>0</td>\n",
       "      <td>1.5</td>\n",
       "      <td>1.50</td>\n",
       "      <td>0.0</td>\n",
       "      <td>0.0</td>\n",
       "    </tr>\n",
       "    <tr>\n",
       "      <th>5</th>\n",
       "      <td>1.5</td>\n",
       "      <td>1.5</td>\n",
       "      <td>1</td>\n",
       "      <td>1.50</td>\n",
       "      <td>0.0</td>\n",
       "      <td>0.75</td>\n",
       "      <td>0</td>\n",
       "      <td>1.5</td>\n",
       "      <td>0.00</td>\n",
       "      <td>0.5</td>\n",
       "      <td>1.0</td>\n",
       "    </tr>\n",
       "    <tr>\n",
       "      <th>...</th>\n",
       "      <td>...</td>\n",
       "      <td>...</td>\n",
       "      <td>...</td>\n",
       "      <td>...</td>\n",
       "      <td>...</td>\n",
       "      <td>...</td>\n",
       "      <td>...</td>\n",
       "      <td>...</td>\n",
       "      <td>...</td>\n",
       "      <td>...</td>\n",
       "      <td>...</td>\n",
       "    </tr>\n",
       "    <tr>\n",
       "      <th>60</th>\n",
       "      <td>1.5</td>\n",
       "      <td>1.5</td>\n",
       "      <td>1</td>\n",
       "      <td>0.75</td>\n",
       "      <td>1.5</td>\n",
       "      <td>1.50</td>\n",
       "      <td>1</td>\n",
       "      <td>1.5</td>\n",
       "      <td>0.00</td>\n",
       "      <td>1.0</td>\n",
       "      <td>0.0</td>\n",
       "    </tr>\n",
       "    <tr>\n",
       "      <th>61</th>\n",
       "      <td>1.5</td>\n",
       "      <td>0</td>\n",
       "      <td>1</td>\n",
       "      <td>0.75</td>\n",
       "      <td>1.5</td>\n",
       "      <td>1.50</td>\n",
       "      <td>0</td>\n",
       "      <td>0.0</td>\n",
       "      <td>0.00</td>\n",
       "      <td>1.0</td>\n",
       "      <td>1.0</td>\n",
       "    </tr>\n",
       "    <tr>\n",
       "      <th>62</th>\n",
       "      <td>1.5</td>\n",
       "      <td>1.5</td>\n",
       "      <td>1</td>\n",
       "      <td>1.50</td>\n",
       "      <td>1.5</td>\n",
       "      <td>1.50</td>\n",
       "      <td>1</td>\n",
       "      <td>1.5</td>\n",
       "      <td>1.50</td>\n",
       "      <td>1.0</td>\n",
       "      <td>1.0</td>\n",
       "    </tr>\n",
       "    <tr>\n",
       "      <th>63</th>\n",
       "      <td>1.5</td>\n",
       "      <td>1.5</td>\n",
       "      <td>1</td>\n",
       "      <td>0.75</td>\n",
       "      <td>1.5</td>\n",
       "      <td>1.50</td>\n",
       "      <td>1</td>\n",
       "      <td>1.5</td>\n",
       "      <td>1.50</td>\n",
       "      <td>1.0</td>\n",
       "      <td>1.0</td>\n",
       "    </tr>\n",
       "    <tr>\n",
       "      <th>64</th>\n",
       "      <td>0.0</td>\n",
       "      <td>0</td>\n",
       "      <td>0</td>\n",
       "      <td>0.75</td>\n",
       "      <td>1.5</td>\n",
       "      <td>1.50</td>\n",
       "      <td>0</td>\n",
       "      <td>1.5</td>\n",
       "      <td>1.50</td>\n",
       "      <td>0.0</td>\n",
       "      <td>1.0</td>\n",
       "    </tr>\n",
       "  </tbody>\n",
       "</table>\n",
       "<p>64 rows × 11 columns</p>\n",
       "</div>"
      ],
      "text/plain": [
       "    oxygen_regulation radiation_protection  gravity  food  supplies  \\\n",
       "id                                                                    \n",
       "1                 1.5                 0.75        0  1.50       0.0   \n",
       "2                 1.5                    0        0  0.00       0.0   \n",
       "3                 1.5                  1.5        1  1.50       1.5   \n",
       "4                 1.5                  1.5        1  0.75       1.5   \n",
       "5                 1.5                  1.5        1  1.50       0.0   \n",
       "..                ...                  ...      ...   ...       ...   \n",
       "60                1.5                  1.5        1  0.75       1.5   \n",
       "61                1.5                    0        1  0.75       1.5   \n",
       "62                1.5                  1.5        1  1.50       1.5   \n",
       "63                1.5                  1.5        1  0.75       1.5   \n",
       "64                0.0                    0        0  0.75       1.5   \n",
       "\n",
       "    power_generation  health  communications_facilities  shape  area  \\\n",
       "id                                                                     \n",
       "1               1.00       1                        1.5   0.75   0.0   \n",
       "2               1.50       0                        1.5   1.50   1.0   \n",
       "3               1.50       0                        1.5   0.75   1.0   \n",
       "4               1.50       0                        1.5   1.50   0.0   \n",
       "5               0.75       0                        1.5   0.00   0.5   \n",
       "..               ...     ...                        ...    ...   ...   \n",
       "60              1.50       1                        1.5   0.00   1.0   \n",
       "61              1.50       0                        0.0   0.00   1.0   \n",
       "62              1.50       1                        1.5   1.50   1.0   \n",
       "63              1.50       1                        1.5   1.50   1.0   \n",
       "64              1.50       0                        1.5   1.50   0.0   \n",
       "\n",
       "    transportation  \n",
       "id                  \n",
       "1              0.0  \n",
       "2              0.0  \n",
       "3              1.0  \n",
       "4              0.0  \n",
       "5              1.0  \n",
       "..             ...  \n",
       "60             0.0  \n",
       "61             1.0  \n",
       "62             1.0  \n",
       "63             1.0  \n",
       "64             1.0  \n",
       "\n",
       "[64 rows x 11 columns]"
      ]
     },
     "execution_count": 1,
     "metadata": {},
     "output_type": "execute_result"
    }
   ],
   "source": [
    "import pandas as pd\n",
    "import numpy as np\n",
    "data = pd.read_csv('habitat_coding.csv', index_col = \"id\")\n",
    "data"
   ]
  },
  {
   "cell_type": "code",
   "execution_count": 2,
   "id": "1e5d7ac7-76cb-4f8a-b445-94fdc74aaf47",
   "metadata": {},
   "outputs": [
    {
     "data": {
      "text/plain": [
       "array([1.5 , 0.  , 0.75])"
      ]
     },
     "execution_count": 2,
     "metadata": {},
     "output_type": "execute_result"
    }
   ],
   "source": [
    "pd.to_numeric(data[\"oxygen_regulation\"])\n",
    "data[\"oxygen_regulation\"].unique()"
   ]
  },
  {
   "cell_type": "code",
   "execution_count": 3,
   "id": "7e3ebc48-449a-4525-9740-3129a30e2601",
   "metadata": {},
   "outputs": [
    {
     "data": {
      "text/plain": [
       "id\n",
       "1     2.0\n",
       "2     2.0\n",
       "3     2.0\n",
       "4     2.0\n",
       "5     2.0\n",
       "     ... \n",
       "60    2.0\n",
       "61    2.0\n",
       "62    2.0\n",
       "63    2.0\n",
       "64    0.0\n",
       "Name: oxygen_regulation, Length: 64, dtype: float64"
      ]
     },
     "execution_count": 3,
     "metadata": {},
     "output_type": "execute_result"
    }
   ],
   "source": [
    "data.loc[data[\"oxygen_regulation\"] == 0, \"oxygen_regulation\"] = 0\n",
    "data.loc[data[\"oxygen_regulation\"] == .75, \"oxygen_regulation\"] = 1\n",
    "data.loc[data[\"oxygen_regulation\"] == 1.5, \"oxygen_regulation\"] = 2\n",
    "data[\"oxygen_regulation\"]"
   ]
  },
  {
   "cell_type": "code",
   "execution_count": 4,
   "id": "de14e94b-4fef-4e42-9574-2e385e41fc4b",
   "metadata": {},
   "outputs": [
    {
     "data": {
      "text/plain": [
       "array([0.75, 0.  , 1.5 ])"
      ]
     },
     "execution_count": 4,
     "metadata": {},
     "output_type": "execute_result"
    }
   ],
   "source": [
    "data[\"radiation_protection\"] = data[\"radiation_protection\"].str.strip()\n",
    "data[\"radiation_protection\"] = pd.to_numeric(data[\"radiation_protection\"])\n",
    "data[\"radiation_protection\"].unique()"
   ]
  },
  {
   "cell_type": "code",
   "execution_count": 5,
   "id": "74065f1d-af40-483c-a766-da1c79960e77",
   "metadata": {},
   "outputs": [
    {
     "data": {
      "text/plain": [
       "id\n",
       "1     1.0\n",
       "2     0.0\n",
       "3     2.0\n",
       "4     2.0\n",
       "5     2.0\n",
       "     ... \n",
       "60    2.0\n",
       "61    0.0\n",
       "62    2.0\n",
       "63    2.0\n",
       "64    0.0\n",
       "Name: radiation_protection, Length: 64, dtype: float64"
      ]
     },
     "execution_count": 5,
     "metadata": {},
     "output_type": "execute_result"
    }
   ],
   "source": [
    "data.loc[data[\"radiation_protection\"] == 0, \"radiation_protection\"] = 0\n",
    "data.loc[data[\"radiation_protection\"] == .75, \"radiation_protection\"] = 1\n",
    "data.loc[data[\"radiation_protection\"] == 1.5 , \"radiation_protection\"] = 2\n",
    "data[\"radiation_protection\"]"
   ]
  },
  {
   "cell_type": "code",
   "execution_count": 6,
   "id": "cd9808b3-cb2b-42d5-b1e1-7ced61f1446d",
   "metadata": {},
   "outputs": [
    {
     "data": {
      "text/plain": [
       "array([0, 1], dtype=int64)"
      ]
     },
     "execution_count": 6,
     "metadata": {},
     "output_type": "execute_result"
    }
   ],
   "source": [
    "data[\"gravity\"].unique()"
   ]
  },
  {
   "cell_type": "code",
   "execution_count": 7,
   "id": "19512a46-53c9-4b33-ba93-1ff6fda087d7",
   "metadata": {},
   "outputs": [
    {
     "data": {
      "text/plain": [
       "array([1.5 , 0.  , 0.75])"
      ]
     },
     "execution_count": 7,
     "metadata": {},
     "output_type": "execute_result"
    }
   ],
   "source": [
    "data[\"food\"].unique()"
   ]
  },
  {
   "cell_type": "code",
   "execution_count": 8,
   "id": "b4a9e963-f25d-420f-820d-cb1e33509db2",
   "metadata": {},
   "outputs": [
    {
     "data": {
      "text/plain": [
       "id\n",
       "1     2.0\n",
       "2     0.0\n",
       "3     2.0\n",
       "4     1.0\n",
       "5     2.0\n",
       "     ... \n",
       "60    1.0\n",
       "61    1.0\n",
       "62    2.0\n",
       "63    1.0\n",
       "64    1.0\n",
       "Name: food, Length: 64, dtype: float64"
      ]
     },
     "execution_count": 8,
     "metadata": {},
     "output_type": "execute_result"
    }
   ],
   "source": [
    "data.loc[data[\"food\"] == 0, \"food\"] = 0\n",
    "data.loc[data[\"food\"] == .75, \"food\"] = 1\n",
    "data.loc[data[\"food\"] == 1.5 , \"food\"] = 2\n",
    "data[\"food\"]"
   ]
  },
  {
   "cell_type": "code",
   "execution_count": 9,
   "id": "5543723c-c7ae-40cc-931b-0087e4059a10",
   "metadata": {},
   "outputs": [
    {
     "data": {
      "text/plain": [
       "array([0.  , 1.5 , 0.75])"
      ]
     },
     "execution_count": 9,
     "metadata": {},
     "output_type": "execute_result"
    }
   ],
   "source": [
    "data[\"supplies\"].unique()"
   ]
  },
  {
   "cell_type": "code",
   "execution_count": 10,
   "id": "51305687-6a7e-491c-ade6-cdade0b2c74e",
   "metadata": {},
   "outputs": [
    {
     "data": {
      "text/plain": [
       "id\n",
       "1     0.0\n",
       "2     0.0\n",
       "3     2.0\n",
       "4     2.0\n",
       "5     0.0\n",
       "     ... \n",
       "60    2.0\n",
       "61    2.0\n",
       "62    2.0\n",
       "63    2.0\n",
       "64    2.0\n",
       "Name: supplies, Length: 64, dtype: float64"
      ]
     },
     "execution_count": 10,
     "metadata": {},
     "output_type": "execute_result"
    }
   ],
   "source": [
    "data.loc[data[\"supplies\"] == 0, \"supplies\"] = 0\n",
    "data.loc[data[\"supplies\"] == .75, \"supplies\"] = 1\n",
    "data.loc[data[\"supplies\"] == 1.5 , \"supplies\"] = 2\n",
    "data[\"supplies\"]"
   ]
  },
  {
   "cell_type": "code",
   "execution_count": 11,
   "id": "95dfd175-f33b-4f0d-bd48-65329232c695",
   "metadata": {},
   "outputs": [
    {
     "data": {
      "text/plain": [
       "array([1.  , 1.5 , 0.75, 0.  ])"
      ]
     },
     "execution_count": 11,
     "metadata": {},
     "output_type": "execute_result"
    }
   ],
   "source": [
    "data[\"power_generation\"].unique()"
   ]
  },
  {
   "cell_type": "code",
   "execution_count": 12,
   "id": "83e9b0d6-ce65-4158-809d-cfdca3e62bd5",
   "metadata": {},
   "outputs": [
    {
     "data": {
      "text/plain": [
       "id\n",
       "1     2.0\n",
       "2     2.0\n",
       "3     2.0\n",
       "4     2.0\n",
       "5     1.0\n",
       "     ... \n",
       "60    2.0\n",
       "61    2.0\n",
       "62    2.0\n",
       "63    2.0\n",
       "64    2.0\n",
       "Name: power_generation, Length: 64, dtype: float64"
      ]
     },
     "execution_count": 12,
     "metadata": {},
     "output_type": "execute_result"
    }
   ],
   "source": [
    "data.loc[data[\"power_generation\"] == 0, \"power_generation\"] = 0\n",
    "data.loc[(data[\"power_generation\"] == 1.5) | (data[\"power_generation\"] == 1), \"power_generation\"] = 2\n",
    "data.loc[data[\"power_generation\"] == .75, \"power_generation\"] = 1\n",
    "data[\"power_generation\"]"
   ]
  },
  {
   "cell_type": "code",
   "execution_count": 13,
   "id": "a62b5461-d07d-4061-98f1-0fa479232830",
   "metadata": {},
   "outputs": [
    {
     "data": {
      "text/plain": [
       "array([1, 0], dtype=int64)"
      ]
     },
     "execution_count": 13,
     "metadata": {},
     "output_type": "execute_result"
    }
   ],
   "source": [
    "data[\"health\"].unique()"
   ]
  },
  {
   "cell_type": "code",
   "execution_count": 14,
   "id": "69fd436a-03d8-4ab8-b520-8f27babadbfe",
   "metadata": {},
   "outputs": [
    {
     "data": {
      "text/plain": [
       "array([1.5 , 0.75, 0.  ])"
      ]
     },
     "execution_count": 14,
     "metadata": {},
     "output_type": "execute_result"
    }
   ],
   "source": [
    "data[\"communications_facilities\"].unique()"
   ]
  },
  {
   "cell_type": "code",
   "execution_count": 15,
   "id": "bfbbcc38-a740-4097-8789-8a41613fc1db",
   "metadata": {},
   "outputs": [
    {
     "data": {
      "text/plain": [
       "id\n",
       "1     2.0\n",
       "2     2.0\n",
       "3     2.0\n",
       "4     2.0\n",
       "5     2.0\n",
       "     ... \n",
       "60    2.0\n",
       "61    0.0\n",
       "62    2.0\n",
       "63    2.0\n",
       "64    2.0\n",
       "Name: communications_facilities, Length: 64, dtype: float64"
      ]
     },
     "execution_count": 15,
     "metadata": {},
     "output_type": "execute_result"
    }
   ],
   "source": [
    "data.loc[data[\"communications_facilities\"] == 0, \"communications_facilities\"] = 0\n",
    "data.loc[data[\"communications_facilities\"] == .75, \"communications_facilities\"] = 1\n",
    "data.loc[(data[\"communications_facilities\"] == 1.5), \"communications_facilities\"] = 2\n",
    "data[\"communications_facilities\"]"
   ]
  },
  {
   "cell_type": "code",
   "execution_count": 16,
   "id": "d3c41b85-0ec2-4659-bf81-064f93faec5e",
   "metadata": {},
   "outputs": [
    {
     "data": {
      "text/plain": [
       "array([0.75, 1.5 , 0.  ])"
      ]
     },
     "execution_count": 16,
     "metadata": {},
     "output_type": "execute_result"
    }
   ],
   "source": [
    "data[\"shape\"].unique()"
   ]
  },
  {
   "cell_type": "code",
   "execution_count": 17,
   "id": "93bc583e-f30a-4693-9b09-0b9da9b22d1b",
   "metadata": {},
   "outputs": [
    {
     "data": {
      "text/plain": [
       "id\n",
       "1     1.0\n",
       "2     2.0\n",
       "3     1.0\n",
       "4     2.0\n",
       "5     0.0\n",
       "     ... \n",
       "60    0.0\n",
       "61    0.0\n",
       "62    2.0\n",
       "63    2.0\n",
       "64    2.0\n",
       "Name: shape, Length: 64, dtype: float64"
      ]
     },
     "execution_count": 17,
     "metadata": {},
     "output_type": "execute_result"
    }
   ],
   "source": [
    "data.loc[data[\"shape\"] == 0, \"shape\"] = 0\n",
    "data.loc[data[\"shape\"] == .75, \"shape\"] = 1\n",
    "data.loc[(data[\"shape\"] == 1.5), \"shape\"] = 2\n",
    "data[\"shape\"]"
   ]
  },
  {
   "cell_type": "code",
   "execution_count": 18,
   "id": "2e362ef5-faf9-4fed-ae47-975c1da8ff95",
   "metadata": {},
   "outputs": [
    {
     "data": {
      "text/plain": [
       "array([0. , 1. , 0.5])"
      ]
     },
     "execution_count": 18,
     "metadata": {},
     "output_type": "execute_result"
    }
   ],
   "source": [
    "data[\"area\"].unique()"
   ]
  },
  {
   "cell_type": "code",
   "execution_count": 19,
   "id": "afa3b3a6-2a8d-4b0f-a8b0-f6dcf562af5b",
   "metadata": {},
   "outputs": [
    {
     "data": {
      "text/plain": [
       "id\n",
       "1     0.0\n",
       "2     2.0\n",
       "3     2.0\n",
       "4     0.0\n",
       "5     1.0\n",
       "     ... \n",
       "60    2.0\n",
       "61    2.0\n",
       "62    2.0\n",
       "63    2.0\n",
       "64    0.0\n",
       "Name: area, Length: 64, dtype: float64"
      ]
     },
     "execution_count": 19,
     "metadata": {},
     "output_type": "execute_result"
    }
   ],
   "source": [
    "data.loc[data[\"area\"] == 0, \"area\"] = 0\n",
    "data.loc[(data[\"area\"] == 1), \"area\"] = 2\n",
    "data.loc[data[\"area\"] == .5, \"area\"] = 1\n",
    "data[\"area\"]"
   ]
  },
  {
   "cell_type": "code",
   "execution_count": 20,
   "id": "78273680-a0cc-4619-b18e-46a25b69b1d8",
   "metadata": {},
   "outputs": [
    {
     "data": {
      "text/plain": [
       "array([0. , 1. , 0.5])"
      ]
     },
     "execution_count": 20,
     "metadata": {},
     "output_type": "execute_result"
    }
   ],
   "source": [
    "data[\"transportation\"].unique()"
   ]
  },
  {
   "cell_type": "code",
   "execution_count": 21,
   "id": "23c02d30-22c5-422a-9438-661fba29b0e5",
   "metadata": {},
   "outputs": [
    {
     "data": {
      "text/plain": [
       "id\n",
       "1     0.0\n",
       "2     0.0\n",
       "3     2.0\n",
       "4     0.0\n",
       "5     2.0\n",
       "     ... \n",
       "60    0.0\n",
       "61    2.0\n",
       "62    2.0\n",
       "63    2.0\n",
       "64    2.0\n",
       "Name: transportation, Length: 64, dtype: float64"
      ]
     },
     "execution_count": 21,
     "metadata": {},
     "output_type": "execute_result"
    }
   ],
   "source": [
    "data.loc[data[\"transportation\"] == 0, \"transportation\"] = 0\n",
    "data.loc[(data[\"transportation\"] == 1), \"transportation\"] = 2\n",
    "data.loc[data[\"transportation\"] == .5, \"transportation\"] = 1\n",
    "data[\"transportation\"]"
   ]
  },
  {
   "cell_type": "code",
   "execution_count": 22,
   "id": "bdd44d99-8196-491f-af36-b1449c19b3a1",
   "metadata": {},
   "outputs": [],
   "source": [
    "data.to_csv(\"codes_categorized.csv\")"
   ]
  },
  {
   "cell_type": "code",
   "execution_count": null,
   "id": "cac26fc8-291c-4bff-acf1-608dcd180b60",
   "metadata": {},
   "outputs": [],
   "source": []
  }
 ],
 "metadata": {
  "kernelspec": {
   "display_name": "Python 3 (ipykernel)",
   "language": "python",
   "name": "python3"
  },
  "language_info": {
   "codemirror_mode": {
    "name": "ipython",
    "version": 3
   },
   "file_extension": ".py",
   "mimetype": "text/x-python",
   "name": "python",
   "nbconvert_exporter": "python",
   "pygments_lexer": "ipython3",
   "version": "3.9.13"
  }
 },
 "nbformat": 4,
 "nbformat_minor": 5
}
